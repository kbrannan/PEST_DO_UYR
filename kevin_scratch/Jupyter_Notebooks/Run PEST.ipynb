{
 "cells": [
  {
   "cell_type": "markdown",
   "metadata": {},
   "source": [
    "# Learning how to run PEST from notebook"
   ]
  },
  {
   "cell_type": "markdown",
   "metadata": {},
   "source": [
    "Load necessary packages"
   ]
  },
  {
   "cell_type": "code",
   "execution_count": 1,
   "metadata": {},
   "outputs": [],
   "source": [
    "import pyemu\n",
    "import os, glob\n",
    "import subprocess"
   ]
  },
  {
   "cell_type": "markdown",
   "metadata": {},
   "source": [
    "Check current directory"
   ]
  },
  {
   "cell_type": "code",
   "execution_count": 2,
   "metadata": {},
   "outputs": [
    {
     "data": {
      "text/plain": [
       "'c:\\\\temp\\\\kevin_scratch\\\\Jupyter_Notebooks'"
      ]
     },
     "execution_count": 2,
     "metadata": {},
     "output_type": "execute_result"
    }
   ],
   "source": [
    "os.getcwd()"
   ]
  },
  {
   "cell_type": "markdown",
   "metadata": {},
   "source": [
    "Move up to main folder then check"
   ]
  },
  {
   "cell_type": "code",
   "execution_count": 3,
   "metadata": {},
   "outputs": [
    {
     "data": {
      "text/plain": [
       "'c:\\\\temp\\\\kevin_scratch'"
      ]
     },
     "execution_count": 3,
     "metadata": {},
     "output_type": "execute_result"
    }
   ],
   "source": [
    "os.chdir('..')\n",
    "os.getcwd()"
   ]
  },
  {
   "cell_type": "markdown",
   "metadata": {},
   "source": [
    "Look for PEST control files"
   ]
  },
  {
   "cell_type": "code",
   "execution_count": 4,
   "metadata": {},
   "outputs": [
    {
     "data": {
      "text/plain": [
       "['control.pst']"
      ]
     },
     "execution_count": 4,
     "metadata": {},
     "output_type": "execute_result"
    }
   ],
   "source": [
    "glob.glob('*.pst')"
   ]
  },
  {
   "cell_type": "markdown",
   "metadata": {},
   "source": [
    "Set variable for main folder to for PEST run and the PEST control file"
   ]
  },
  {
   "cell_type": "code",
   "execution_count": 5,
   "metadata": {},
   "outputs": [],
   "source": [
    "dir_main = 'c:\\\\temp\\\\kevin_scratch'\n",
    "file_PEST_control_main = 'control.pst'"
   ]
  },
  {
   "cell_type": "markdown",
   "metadata": {},
   "source": [
    "Run PEST with current control file"
   ]
  },
  {
   "cell_type": "code",
   "execution_count": 6,
   "metadata": {
    "scrolled": true
   },
   "outputs": [
    {
     "name": "stdout",
     "output_type": "stream",
     "text": [
      "\n",
      "PEST Version 13.6. Watermark Numerical Computing.\n",
      "\n",
      "PEST is running in parameter estimation mode.\n",
      "\n",
      "PEST run record: case control\n",
      "(See file control.rec for full details.)\n",
      "\n",
      "Model command line: \n",
      "model.bat\n",
      "\n",
      "Running model .....\n",
      "\n",
      "   Running model 1 time....\n",
      "   Sum of squared weighted residuals (ie phi)               =   1500.0    \n",
      "   Contribution to phi from observation group \"fcob\"        =   100.00    \n",
      "   Contribution to phi from observation group \"orgn\"        =   100.00    \n",
      "   Contribution to phi from observation group \"nh4\"         =   100.00    \n",
      "   Contribution to phi from observation group \"no3\"         =   100.00    \n",
      "   Contribution to phi from observation group \"orgp\"        =   100.00    \n",
      "   Contribution to phi from observation group \"inorgp\"      =   100.00    \n",
      "   Contribution to phi from observation group \"doave\"       =   100.00    \n",
      "   Contribution to phi from observation group \"domin\"       =   100.00    \n",
      "   Contribution to phi from observation group \"domax\"       =   100.00    \n",
      "   Contribution to phi from observation group \"tempave\"     =   100.00    \n",
      "   Contribution to phi from observation group \"tempmin\"     =   99.998    \n",
      "   Contribution to phi from observation group \"tempmax\"     =   100.00    \n",
      "   Contribution to phi from observation group \"phave\"       =   100.00    \n",
      "   Contribution to phi from observation group \"phmin\"       =   99.999    \n",
      "   Contribution to phi from observation group \"phmax\"       =   100.00    \n",
      "\n",
      "\n",
      "OPTIMISATION ITERATION NO.        : 1\n",
      "   Model calls so far             : 1\n",
      "   Starting phi for this iteration                          :   1500.0    \n",
      "   Contribution to phi from observation group \"fcob\"        :   100.00    \n",
      "   Contribution to phi from observation group \"orgn\"        :   100.00    \n",
      "   Contribution to phi from observation group \"nh4\"         :   100.00    \n",
      "   Contribution to phi from observation group \"no3\"         :   100.00    \n",
      "   Contribution to phi from observation group \"orgp\"        :   100.00    \n",
      "   Contribution to phi from observation group \"inorgp\"      :   100.00    \n",
      "   Contribution to phi from observation group \"doave\"       :   100.00    \n",
      "   Contribution to phi from observation group \"domin\"       :   100.00    \n",
      "   Contribution to phi from observation group \"domax\"       :   100.00    \n",
      "   Contribution to phi from observation group \"tempave\"     :   100.00    \n",
      "   Contribution to phi from observation group \"tempmin\"     :   99.998    \n",
      "   Contribution to phi from observation group \"tempmax\"     :   100.00    \n",
      "   Contribution to phi from observation group \"phave\"       :   100.00    \n",
      "   Contribution to phi from observation group \"phmin\"       :   99.999    \n",
      "   Contribution to phi from observation group \"phmax\"       :   100.00    \n",
      "\n",
      "   Calculating Jacobian matrix: running model 89 times .....\n",
      "\n",
      "   1 runs completed. \n",
      "   2 runs completed. \n",
      "   3 runs completed. \n",
      "   4 runs completed. \n",
      "   5 runs completed. \n",
      "   6 runs completed. \n",
      "   7 runs completed. \n",
      "   8 runs completed. \n",
      "   9 runs completed. \n",
      "   10 runs completed. \n",
      "   11 runs completed.\n",
      "PEST execution has been STOPPED: tidying up.....\n",
      "\n",
      "   12 runs completed.\n"
     ]
    }
   ],
   "source": [
    "!pest control.pst"
   ]
  },
  {
   "cell_type": "code",
   "execution_count": 7,
   "metadata": {},
   "outputs": [],
   "source": [
    "process = subprocess.Popen('cmd /k dir', shell=True, stdin=subprocess.PIPE,stdout=subprocess.PIPE, stderr=None)"
   ]
  },
  {
   "cell_type": "code",
   "execution_count": 8,
   "metadata": {},
   "outputs": [
    {
     "name": "stdout",
     "output_type": "stream",
     "text": [
      "None\n"
     ]
    }
   ],
   "source": [
    "process.stdin.write('pest ' + file_PEST_control_main)\n",
    "print process.returncode"
   ]
  },
  {
   "cell_type": "code",
   "execution_count": 9,
   "metadata": {},
   "outputs": [
    {
     "data": {
      "text/plain": [
       "9684"
      ]
     },
     "execution_count": 9,
     "metadata": {},
     "output_type": "execute_result"
    }
   ],
   "source": [
    "process.pid"
   ]
  },
  {
   "cell_type": "code",
   "execution_count": null,
   "metadata": {},
   "outputs": [],
   "source": []
  }
 ],
 "metadata": {
  "kernelspec": {
   "display_name": "Python 2",
   "language": "python",
   "name": "python2"
  },
  "language_info": {
   "codemirror_mode": {
    "name": "ipython",
    "version": 2
   },
   "file_extension": ".py",
   "mimetype": "text/x-python",
   "name": "python",
   "nbconvert_exporter": "python",
   "pygments_lexer": "ipython2",
   "version": "2.7.14"
  }
 },
 "nbformat": 4,
 "nbformat_minor": 2
}
