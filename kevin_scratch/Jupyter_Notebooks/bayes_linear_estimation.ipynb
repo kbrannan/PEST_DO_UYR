{
 "cells": [
  {
   "cell_type": "markdown",
   "metadata": {},
   "source": [
    "## Conduct Preliminary Linear Analysis of Upper Yaquina River QUAL2Kw Model"
   ]
  },
  {
   "cell_type": "code",
   "execution_count": 1,
   "metadata": {
    "scrolled": true
   },
   "outputs": [],
   "source": [
    "import os\n",
    "import numpy as np\n",
    "import matplotlib.pyplot as plt\n",
    "import pyemu\n",
    "import re\n",
    "import subprocess"
   ]
  },
  {
   "cell_type": "markdown",
   "metadata": {},
   "source": [
    "## Working Directory"
   ]
  },
  {
   "cell_type": "markdown",
   "metadata": {},
   "source": [
    "Check working directory. \n",
    "Working directory needs to have all the files used in the PEST run"
   ]
  },
  {
   "cell_type": "code",
   "execution_count": 2,
   "metadata": {
    "scrolled": true
   },
   "outputs": [
    {
     "data": {
      "text/plain": [
       "'C:\\\\Temp\\\\kevin_scratch\\\\Jupyter_Notebooks'"
      ]
     },
     "execution_count": 2,
     "metadata": {},
     "output_type": "execute_result"
    }
   ],
   "source": [
    "os.getcwd()"
   ]
  },
  {
   "cell_type": "markdown",
   "metadata": {},
   "source": [
    "Moving one level up"
   ]
  },
  {
   "cell_type": "code",
   "execution_count": 3,
   "metadata": {
    "scrolled": true
   },
   "outputs": [],
   "source": [
    "os.chdir('..')"
   ]
  },
  {
   "cell_type": "markdown",
   "metadata": {},
   "source": [
    "Check again"
   ]
  },
  {
   "cell_type": "code",
   "execution_count": 4,
   "metadata": {
    "scrolled": true
   },
   "outputs": [
    {
     "data": {
      "text/plain": [
       "'C:\\\\Temp\\\\kevin_scratch'"
      ]
     },
     "execution_count": 4,
     "metadata": {},
     "output_type": "execute_result"
    }
   ],
   "source": [
    "os.getcwd()"
   ]
  },
  {
   "cell_type": "markdown",
   "metadata": {},
   "source": [
    "## Select observations used for forecasts"
   ]
  },
  {
   "cell_type": "markdown",
   "metadata": {},
   "source": [
    "We can do error analaysis on model output using linear analysis. We need to select which observations to use as forecasts. For this example, we will use the minimum do for each reach. We will load the PEST control file and minipulate the observations using pandas data frame methods to get the observation names of the minimun do values in the PEST control file."
   ]
  },
  {
   "cell_type": "code",
   "execution_count": 12,
   "metadata": {},
   "outputs": [
    {
     "name": "stdout",
     "output_type": "stream",
     "text": [
      "\n",
      "PEST Version 14.2. Watermark Numerical Computing.\n",
      "\n",
      "PEST is running in parameter estimation mode.\n",
      "\n",
      "PEST run record: case control\n",
      "(See file control.rec for full details.)\n",
      "\n",
      "Model command line:\n",
      "model.bat\n",
      "\n",
      "Running model .....\n",
      "\n",
      "   Running model 1 time....\n",
      "   Sum of squared weighted residuals (ie phi)               =   1600.0\n",
      "   Contribution to phi from observation group \"flow\"        =   100.00\n",
      "   Contribution to phi from observation group \"fcob\"        =   100.00\n",
      "   Contribution to phi from observation group \"orgn\"        =   100.00\n",
      "   Contribution to phi from observation group \"nh4\"         =   100.00\n",
      "   Contribution to phi from observation group \"no3\"         =   100.00\n",
      "   Contribution to phi from observation group \"orgp\"        =   100.00\n",
      "   Contribution to phi from observation group \"inorgp\"      =   100.00\n",
      "   Contribution to phi from observation group \"doave\"       =   100.00\n",
      "   Contribution to phi from observation group \"domin\"       =   100.00\n",
      "   Contribution to phi from observation group \"domax\"       =   100.00\n",
      "   Contribution to phi from observation group \"tempave\"     =   100.00\n",
      "   Contribution to phi from observation group \"tempmin\"     =   100.00\n",
      "   Contribution to phi from observation group \"tempmax\"     =   100.00\n",
      "   Contribution to phi from observation group \"phave\"       =   100.00\n",
      "   Contribution to phi from observation group \"phmin\"       =   100.00\n",
      "   Contribution to phi from observation group \"phmax\"       =   100.00\n",
      "\n",
      "\n",
      "OPTIMISATION ITERATION NO.        : 1\n",
      "   Model calls so far             : 1\n",
      "   Starting phi for this iteration                          :   1600.0\n",
      "   Contribution to phi from observation group \"flow\"        :   100.00\n",
      "   Contribution to phi from observation group \"fcob\"        :   100.00\n",
      "   Contribution to phi from observation group \"orgn\"        :   100.00\n",
      "   Contribution to phi from observation group \"nh4\"         :   100.00\n",
      "   Contribution to phi from observation group \"no3\"         :   100.00\n",
      "   Contribution to phi from observation group \"orgp\"        :   100.00\n",
      "   Contribution to phi from observation group \"inorgp\"      :   100.00\n",
      "   Contribution to phi from observation group \"doave\"       :   100.00\n",
      "   Contribution to phi from observation group \"domin\"       :   100.00\n",
      "   Contribution to phi from observation group \"domax\"       :   100.00\n",
      "   Contribution to phi from observation group \"tempave\"     :   100.00\n",
      "   Contribution to phi from observation group \"tempmin\"     :   100.00\n",
      "   Contribution to phi from observation group \"tempmax\"     :   100.00\n",
      "   Contribution to phi from observation group \"phave\"       :   100.00\n",
      "   Contribution to phi from observation group \"phmin\"       :   100.00\n",
      "   Contribution to phi from observation group \"phmax\"       :   100.00\n",
      "\n",
      "   Calculating Jacobian matrix: running model 89 times .....\n",
      "   89 runs completed. \n",
      "   phi gradient zero in non-frozen parameter space\n",
      "   Switch to higher order derivatives calculation\n",
      "   (restart from best parameters so far - these achieved at iteration    0)\n",
      "\n",
      "\n",
      "   Optimisation complete: optimisation iteration limit of   0 realized.\n",
      "   Total model calls:     90\n",
      "\n",
      "Running model one last time with best parameters.....\n",
      "\n",
      "Recording run statistics .....\n",
      "\n",
      "See file control.rec for full run details.\n",
      "See file control.sen for parameter sensitivities.\n",
      "See file control.seo for observation sensitivities.\n",
      "See file control.res for residuals.\n",
      "\n",
      "\n",
      "\n",
      "\n",
      "\n",
      "\n",
      "\n",
      "\n",
      "\n",
      "\n",
      "\n",
      "\n",
      "\n",
      "\n",
      "\n",
      "\n",
      "\n",
      "\n",
      "\n",
      "\n",
      "\n",
      "\n",
      "Run Stop/Complete\n"
     ]
    }
   ],
   "source": [
    "# Run PEST\n",
    "proc = subprocess.Popen(['pest', 'control.pst'],stdout=subprocess.PIPE)\n",
    "while proc.poll() is None:\n",
    "    line = proc.stdout.readline()\n",
    "    print line.rstrip()\n",
    "print \"Run Stop/Complete\""
   ]
  },
  {
   "cell_type": "code",
   "execution_count": 5,
   "metadata": {
    "scrolled": true
   },
   "outputs": [],
   "source": [
    "p = pyemu.Pst('control.pst') # load the PEST control file"
   ]
  },
  {
   "cell_type": "code",
   "execution_count": 6,
   "metadata": {
    "scrolled": true
   },
   "outputs": [],
   "source": [
    "do_fore = p.observation_data[p.observation_data['obgnme'] == 'domin'] # get the minimum do observations"
   ]
  },
  {
   "cell_type": "code",
   "execution_count": 7,
   "metadata": {
    "scrolled": true
   },
   "outputs": [],
   "source": [
    "# add a column with reach number\n",
    "do_fore = do_fore.assign(rch=[re.sub(\".{2}$\",\"\", re.sub(\"[^0-9]\", \"\", x)) for x in do_fore['obsnme']])"
   ]
  },
  {
   "cell_type": "code",
   "execution_count": 8,
   "metadata": {
    "scrolled": true
   },
   "outputs": [],
   "source": [
    "# get the minmum values for each reach and put observation names in a list\n",
    "do_mins = do_fore.sort_values('obsval').groupby('rch', as_index=False).first()\n",
    "l_forecasts = do_mins['obsnme'].tolist()"
   ]
  },
  {
   "cell_type": "code",
   "execution_count": 9,
   "metadata": {},
   "outputs": [
    {
     "name": "stdout",
     "output_type": "stream",
     "text": [
      "['domin0502', 'domin0606', 'domin0808']\n"
     ]
    }
   ],
   "source": [
    "# here is the list\n",
    "print l_forecasts"
   ]
  },
  {
   "cell_type": "code",
   "execution_count": 10,
   "metadata": {},
   "outputs": [
    {
     "data": {
      "text/html": [
       "<div>\n",
       "<style scoped>\n",
       "    .dataframe tbody tr th:only-of-type {\n",
       "        vertical-align: middle;\n",
       "    }\n",
       "\n",
       "    .dataframe tbody tr th {\n",
       "        vertical-align: top;\n",
       "    }\n",
       "\n",
       "    .dataframe thead th {\n",
       "        text-align: right;\n",
       "    }\n",
       "</style>\n",
       "<table border=\"1\" class=\"dataframe\">\n",
       "  <thead>\n",
       "    <tr style=\"text-align: right;\">\n",
       "      <th></th>\n",
       "      <th>obsnme</th>\n",
       "      <th>obsval</th>\n",
       "      <th>weight</th>\n",
       "      <th>obgnme</th>\n",
       "    </tr>\n",
       "    <tr>\n",
       "      <th>obsnme</th>\n",
       "      <th></th>\n",
       "      <th></th>\n",
       "      <th></th>\n",
       "      <th></th>\n",
       "    </tr>\n",
       "  </thead>\n",
       "  <tbody>\n",
       "    <tr>\n",
       "      <th>domin0502</th>\n",
       "      <td>domin0502</td>\n",
       "      <td>7.89</td>\n",
       "      <td>0.0</td>\n",
       "      <td>forecast</td>\n",
       "    </tr>\n",
       "    <tr>\n",
       "      <th>domin0606</th>\n",
       "      <td>domin0606</td>\n",
       "      <td>7.18</td>\n",
       "      <td>0.0</td>\n",
       "      <td>forecast</td>\n",
       "    </tr>\n",
       "    <tr>\n",
       "      <th>domin0808</th>\n",
       "      <td>domin0808</td>\n",
       "      <td>7.93</td>\n",
       "      <td>0.0</td>\n",
       "      <td>forecast</td>\n",
       "    </tr>\n",
       "  </tbody>\n",
       "</table>\n",
       "</div>"
      ],
      "text/plain": [
       "              obsnme  obsval  weight    obgnme\n",
       "obsnme                                        \n",
       "domin0502  domin0502    7.89     0.0  forecast\n",
       "domin0606  domin0606    7.18     0.0  forecast\n",
       "domin0808  domin0808    7.93     0.0  forecast"
      ]
     },
     "execution_count": 10,
     "metadata": {},
     "output_type": "execute_result"
    }
   ],
   "source": [
    "# update the group name and weight for the forecasts in the observation data\n",
    "p.observation_data.at[p.observation_data.index.isin(l_forecasts), 'obgnme'] = 'forecast'\n",
    "p.observation_data.at[p.observation_data.index.isin(l_forecasts), 'weight'] = 0\n",
    "p.observation_data[p.observation_data.index.isin(l_forecasts)]"
   ]
  },
  {
   "cell_type": "code",
   "execution_count": 19,
   "metadata": {},
   "outputs": [],
   "source": [
    "# increase the observation groups by 1 to include the forecast group\n",
    "p.control_data.nobsgp  = 17"
   ]
  },
  {
   "cell_type": "code",
   "execution_count": 20,
   "metadata": {},
   "outputs": [
    {
     "data": {
      "text/plain": [
       "['domin',\n",
       " 'phave',\n",
       " 'doave',\n",
       " 'tempave',\n",
       " 'flow',\n",
       " 'forecast',\n",
       " 'orgn',\n",
       " 'tempmin',\n",
       " 'fcob',\n",
       " 'inorgp',\n",
       " 'phmax',\n",
       " 'phmin',\n",
       " 'domax',\n",
       " 'no3',\n",
       " 'orgp',\n",
       " 'nh4',\n",
       " 'tempmax']"
      ]
     },
     "execution_count": 20,
     "metadata": {},
     "output_type": "execute_result"
    }
   ],
   "source": [
    "# add the forecast group to the observation groups list\n",
    "p.obs_groups.append('forecast')\n",
    "p.obs_groups"
   ]
  },
  {
   "cell_type": "code",
   "execution_count": 21,
   "metadata": {
    "scrolled": true
   },
   "outputs": [],
   "source": [
    "p.write('control_sc.pst')"
   ]
  },
  {
   "cell_type": "code",
   "execution_count": 5,
   "metadata": {},
   "outputs": [
    {
     "name": "stdout",
     "output_type": "stream",
     "text": [
      "\n",
      "PESTCHEK Version 14.2. Watermark Numerical Computing.\n",
      "\n",
      "Errors ----->\n",
      "No errors encountered.\n",
      "\n",
      "Warnings ----->\n",
      "NOPTMAX provided as -1. No optimisation will be carried out; objective \n",
      "  function, residuals and statistics will be recorded for initial parameter \n",
      "  estimates only.\n"
     ]
    }
   ],
   "source": [
    "!pestchek control_sc.pst"
   ]
  },
  {
   "cell_type": "code",
   "execution_count": 17,
   "metadata": {},
   "outputs": [
    {
     "data": {
      "text/plain": [
       "'C:\\\\Temp\\\\kevin_scratch'"
      ]
     },
     "execution_count": 17,
     "metadata": {},
     "output_type": "execute_result"
    }
   ],
   "source": [
    "os.getcwd()"
   ]
  },
  {
   "cell_type": "code",
   "execution_count": 15,
   "metadata": {},
   "outputs": [
    {
     "name": "stdout",
     "output_type": "stream",
     "text": [
      "\n",
      "PEST Version 14.2. Watermark Numerical Computing.\n",
      "\n",
      "PEST is running in parameter estimation mode.\n",
      "\n",
      "PEST run record: case control_sc\n",
      "(See file control_sc.rec for full details.)\n",
      "\n",
      "Model command line:\n",
      "model.bat\n",
      "\n",
      "Running model .....\n",
      "\n",
      "   Running model 1 time....\n",
      "   Sum of squared weighted residuals (ie phi)               =   1600.0\n",
      "   Contribution to phi from observation group \"domin\"       =   100.00\n",
      "   Contribution to phi from observation group \"phave\"       =   100.00\n",
      "   Contribution to phi from observation group \"doave\"       =   100.00\n",
      "   Contribution to phi from observation group \"tempave\"     =   100.00\n",
      "   Contribution to phi from observation group \"flow\"        =   100.00\n",
      "   Contribution to phi from observation group \"forecast\"    =   0.0000\n",
      "   Contribution to phi from observation group \"orgn\"        =   100.00\n",
      "   Contribution to phi from observation group \"tempmin\"     =   100.00\n",
      "   Contribution to phi from observation group \"fcob\"        =   100.00\n",
      "   Contribution to phi from observation group \"inorgp\"      =   100.00\n",
      "   Contribution to phi from observation group \"phmax\"       =   100.00\n",
      "   Contribution to phi from observation group \"phmin\"       =   100.00\n",
      "   Contribution to phi from observation group \"domax\"       =   100.00\n",
      "   Contribution to phi from observation group \"no3\"         =   100.00\n",
      "   Contribution to phi from observation group \"orgp\"        =   100.00\n",
      "   Contribution to phi from observation group \"nh4\"         =   100.00\n",
      "   Contribution to phi from observation group \"tempmax\"     =   100.00\n",
      "\n",
      "\n",
      "OPTIMISATION ITERATION NO.        : 1\n",
      "   Model calls so far             : 1\n",
      "   Starting phi for this iteration                          :   1600.0\n",
      "   Contribution to phi from observation group \"domin\"       :   100.00\n",
      "   Contribution to phi from observation group \"phave\"       :   100.00\n",
      "   Contribution to phi from observation group \"doave\"       :   100.00\n",
      "   Contribution to phi from observation group \"tempave\"     :   100.00\n",
      "   Contribution to phi from observation group \"flow\"        :   100.00\n",
      "   Contribution to phi from observation group \"forecast\"    :   0.0000\n",
      "   Contribution to phi from observation group \"orgn\"        :   100.00\n",
      "   Contribution to phi from observation group \"tempmin\"     :   100.00\n",
      "   Contribution to phi from observation group \"fcob\"        :   100.00\n",
      "   Contribution to phi from observation group \"inorgp\"      :   100.00\n",
      "   Contribution to phi from observation group \"phmax\"       :   100.00\n",
      "   Contribution to phi from observation group \"phmin\"       :   100.00\n",
      "   Contribution to phi from observation group \"domax\"       :   100.00\n",
      "   Contribution to phi from observation group \"no3\"         :   100.00\n",
      "   Contribution to phi from observation group \"orgp\"        :   100.00\n",
      "   Contribution to phi from observation group \"nh4\"         :   100.00\n",
      "   Contribution to phi from observation group \"tempmax\"     :   100.00\n",
      "\n",
      "   Calculating Jacobian matrix: running model 89 times .....\n",
      "   89 runs completed. \n",
      "\n",
      "   Optimisation complete: NOPTMAX supplied as -1 indicating that statistics\n",
      "                          for initial parameter set only are required.\n",
      "   Total model calls:     90\n",
      "\n",
      "Running model one last time with best parameters.....\n",
      "\n",
      "Recording run statistics .....\n",
      "\n",
      "See file control_sc.rec for full run details.\n",
      "See file control_sc.sen for parameter sensitivities.\n",
      "See file control_sc.seo for observation sensitivities.\n",
      "See file control_sc.res for residuals.\n",
      "\n",
      "\n",
      "\n",
      "\n",
      "\n",
      "\n",
      "\n",
      "\n",
      "\n",
      "\n",
      "\n",
      "\n",
      "\n",
      "\n",
      "\n",
      "Run Stop/Complete\n"
     ]
    }
   ],
   "source": [
    "proc = subprocess.Popen(['pest', 'control_sc.pst'],stdout=subprocess.PIPE)\n",
    "while proc.poll() is None:\n",
    "    line = proc.stdout.readline()\n",
    "    print line.rstrip()\n",
    "print \"Run Stop/Complete\""
   ]
  },
  {
   "cell_type": "markdown",
   "metadata": {},
   "source": [
    "# General parameter uncertainty analysis--evaluating posterior parameter covariance"
   ]
  },
  {
   "cell_type": "markdown",
   "metadata": {},
   "source": [
    "Let's calculate and save the posterior parameter covariance matrix. In this linear analysis, the posterior covariance represents the updated covariance following notional calibration as represented by the Jacobian matrix and both prior parameter and epistemic observation covariance matrices using the Schur complement:"
   ]
  },
  {
   "cell_type": "code",
   "execution_count": 11,
   "metadata": {},
   "outputs": [],
   "source": [
    "# load the Jacobian\n",
    "sc = pyemu.sc.Schur(jco=\"control_sc.jco\")"
   ]
  },
  {
   "cell_type": "code",
   "execution_count": 12,
   "metadata": {},
   "outputs": [],
   "source": [
    "#writes posterior covariance to a text file\n",
    "sc.posterior_parameter.to_ascii(\"control_sc_post.cov\", icode = 1)"
   ]
  },
  {
   "cell_type": "code",
   "execution_count": 13,
   "metadata": {},
   "outputs": [
    {
     "data": {
      "text/html": [
       "<div>\n",
       "<style scoped>\n",
       "    .dataframe tbody tr th:only-of-type {\n",
       "        vertical-align: middle;\n",
       "    }\n",
       "\n",
       "    .dataframe tbody tr th {\n",
       "        vertical-align: top;\n",
       "    }\n",
       "\n",
       "    .dataframe thead th {\n",
       "        text-align: right;\n",
       "    }\n",
       "</style>\n",
       "<table border=\"1\" class=\"dataframe\">\n",
       "  <thead>\n",
       "    <tr style=\"text-align: right;\">\n",
       "      <th></th>\n",
       "      <th>algae1</th>\n",
       "      <th>algae2</th>\n",
       "      <th>algae3</th>\n",
       "      <th>algae4</th>\n",
       "      <th>algae5</th>\n",
       "      <th>algae6</th>\n",
       "      <th>algae7</th>\n",
       "      <th>algae8</th>\n",
       "      <th>bpbios</th>\n",
       "      <th>bpcc</th>\n",
       "    </tr>\n",
       "  </thead>\n",
       "  <tbody>\n",
       "    <tr>\n",
       "      <th>algae1</th>\n",
       "      <td>1.286577</td>\n",
       "      <td>-0.451848</td>\n",
       "      <td>-0.036317</td>\n",
       "      <td>0.008055</td>\n",
       "      <td>0.018491</td>\n",
       "      <td>0.024105</td>\n",
       "      <td>0.041177</td>\n",
       "      <td>0.010286</td>\n",
       "      <td>0.424995</td>\n",
       "      <td>-0.006232</td>\n",
       "    </tr>\n",
       "    <tr>\n",
       "      <th>algae2</th>\n",
       "      <td>-0.451848</td>\n",
       "      <td>1.111620</td>\n",
       "      <td>-0.387300</td>\n",
       "      <td>-0.080328</td>\n",
       "      <td>0.015058</td>\n",
       "      <td>-0.016969</td>\n",
       "      <td>0.004702</td>\n",
       "      <td>0.003290</td>\n",
       "      <td>-0.563135</td>\n",
       "      <td>-0.004796</td>\n",
       "    </tr>\n",
       "    <tr>\n",
       "      <th>algae3</th>\n",
       "      <td>-0.036317</td>\n",
       "      <td>-0.387300</td>\n",
       "      <td>0.479448</td>\n",
       "      <td>0.066931</td>\n",
       "      <td>-0.014461</td>\n",
       "      <td>-0.000704</td>\n",
       "      <td>-0.001411</td>\n",
       "      <td>-0.002183</td>\n",
       "      <td>-0.152430</td>\n",
       "      <td>0.000751</td>\n",
       "    </tr>\n",
       "    <tr>\n",
       "      <th>algae4</th>\n",
       "      <td>0.008055</td>\n",
       "      <td>-0.080328</td>\n",
       "      <td>0.066931</td>\n",
       "      <td>0.083872</td>\n",
       "      <td>-0.019704</td>\n",
       "      <td>0.000779</td>\n",
       "      <td>-0.001561</td>\n",
       "      <td>0.000381</td>\n",
       "      <td>-0.064624</td>\n",
       "      <td>-0.001983</td>\n",
       "    </tr>\n",
       "    <tr>\n",
       "      <th>algae5</th>\n",
       "      <td>0.018491</td>\n",
       "      <td>0.015058</td>\n",
       "      <td>-0.014461</td>\n",
       "      <td>-0.019704</td>\n",
       "      <td>0.017169</td>\n",
       "      <td>0.006626</td>\n",
       "      <td>0.005731</td>\n",
       "      <td>0.002993</td>\n",
       "      <td>0.008888</td>\n",
       "      <td>-0.002774</td>\n",
       "    </tr>\n",
       "    <tr>\n",
       "      <th>algae6</th>\n",
       "      <td>0.024105</td>\n",
       "      <td>-0.016969</td>\n",
       "      <td>-0.000704</td>\n",
       "      <td>0.000779</td>\n",
       "      <td>0.006626</td>\n",
       "      <td>0.021534</td>\n",
       "      <td>0.005507</td>\n",
       "      <td>0.003391</td>\n",
       "      <td>-0.007009</td>\n",
       "      <td>0.002900</td>\n",
       "    </tr>\n",
       "    <tr>\n",
       "      <th>algae7</th>\n",
       "      <td>0.041177</td>\n",
       "      <td>0.004702</td>\n",
       "      <td>-0.001411</td>\n",
       "      <td>-0.001561</td>\n",
       "      <td>0.005731</td>\n",
       "      <td>0.005507</td>\n",
       "      <td>0.025868</td>\n",
       "      <td>0.000430</td>\n",
       "      <td>0.006131</td>\n",
       "      <td>-0.001101</td>\n",
       "    </tr>\n",
       "    <tr>\n",
       "      <th>algae8</th>\n",
       "      <td>0.010286</td>\n",
       "      <td>0.003290</td>\n",
       "      <td>-0.002183</td>\n",
       "      <td>0.000381</td>\n",
       "      <td>0.002993</td>\n",
       "      <td>0.003391</td>\n",
       "      <td>0.000430</td>\n",
       "      <td>0.002797</td>\n",
       "      <td>-0.001971</td>\n",
       "      <td>-0.002038</td>\n",
       "    </tr>\n",
       "    <tr>\n",
       "      <th>bpbios</th>\n",
       "      <td>0.424995</td>\n",
       "      <td>-0.563135</td>\n",
       "      <td>-0.152430</td>\n",
       "      <td>-0.064624</td>\n",
       "      <td>0.008888</td>\n",
       "      <td>-0.007009</td>\n",
       "      <td>0.006131</td>\n",
       "      <td>-0.001971</td>\n",
       "      <td>1.000721</td>\n",
       "      <td>-0.006318</td>\n",
       "    </tr>\n",
       "    <tr>\n",
       "      <th>bpcc</th>\n",
       "      <td>-0.006232</td>\n",
       "      <td>-0.004796</td>\n",
       "      <td>0.000751</td>\n",
       "      <td>-0.001983</td>\n",
       "      <td>-0.002774</td>\n",
       "      <td>0.002900</td>\n",
       "      <td>-0.001101</td>\n",
       "      <td>-0.002038</td>\n",
       "      <td>-0.006318</td>\n",
       "      <td>0.012462</td>\n",
       "    </tr>\n",
       "  </tbody>\n",
       "</table>\n",
       "</div>"
      ],
      "text/plain": [
       "          algae1    algae2    algae3    algae4    algae5    algae6    algae7  \\\n",
       "algae1  1.286577 -0.451848 -0.036317  0.008055  0.018491  0.024105  0.041177   \n",
       "algae2 -0.451848  1.111620 -0.387300 -0.080328  0.015058 -0.016969  0.004702   \n",
       "algae3 -0.036317 -0.387300  0.479448  0.066931 -0.014461 -0.000704 -0.001411   \n",
       "algae4  0.008055 -0.080328  0.066931  0.083872 -0.019704  0.000779 -0.001561   \n",
       "algae5  0.018491  0.015058 -0.014461 -0.019704  0.017169  0.006626  0.005731   \n",
       "algae6  0.024105 -0.016969 -0.000704  0.000779  0.006626  0.021534  0.005507   \n",
       "algae7  0.041177  0.004702 -0.001411 -0.001561  0.005731  0.005507  0.025868   \n",
       "algae8  0.010286  0.003290 -0.002183  0.000381  0.002993  0.003391  0.000430   \n",
       "bpbios  0.424995 -0.563135 -0.152430 -0.064624  0.008888 -0.007009  0.006131   \n",
       "bpcc   -0.006232 -0.004796  0.000751 -0.001983 -0.002774  0.002900 -0.001101   \n",
       "\n",
       "          algae8    bpbios      bpcc  \n",
       "algae1  0.010286  0.424995 -0.006232  \n",
       "algae2  0.003290 -0.563135 -0.004796  \n",
       "algae3 -0.002183 -0.152430  0.000751  \n",
       "algae4  0.000381 -0.064624 -0.001983  \n",
       "algae5  0.002993  0.008888 -0.002774  \n",
       "algae6  0.003391 -0.007009  0.002900  \n",
       "algae7  0.000430  0.006131 -0.001101  \n",
       "algae8  0.002797 -0.001971 -0.002038  \n",
       "bpbios -0.001971  1.000721 -0.006318  \n",
       "bpcc   -0.002038 -0.006318  0.012462  "
      ]
     },
     "execution_count": 13,
     "metadata": {},
     "output_type": "execute_result"
    }
   ],
   "source": [
    "#easy to read in the notebook\n",
    "sc.posterior_parameter.to_dataframe().sort_index().\\\n",
    "sort_index(axis=1).iloc[0:10,0:10] "
   ]
  },
  {
   "cell_type": "markdown",
   "metadata": {},
   "source": [
    "We can see the posterior variance of each parameter along the diagonal of this matrix. Now, let's make a simple plot of prior vs posterior uncertainty for the 761 parameters. The .get_parameters_summary() method is the easy way:"
   ]
  },
  {
   "cell_type": "code",
   "execution_count": 14,
   "metadata": {},
   "outputs": [
    {
     "data": {
      "text/html": [
       "<div>\n",
       "<style scoped>\n",
       "    .dataframe tbody tr th:only-of-type {\n",
       "        vertical-align: middle;\n",
       "    }\n",
       "\n",
       "    .dataframe tbody tr th {\n",
       "        vertical-align: top;\n",
       "    }\n",
       "\n",
       "    .dataframe thead th {\n",
       "        text-align: right;\n",
       "    }\n",
       "</style>\n",
       "<table border=\"1\" class=\"dataframe\">\n",
       "  <thead>\n",
       "    <tr style=\"text-align: right;\">\n",
       "      <th></th>\n",
       "      <th>percent_reduction</th>\n",
       "      <th>post_var</th>\n",
       "      <th>prior_var</th>\n",
       "    </tr>\n",
       "  </thead>\n",
       "  <tbody>\n",
       "    <tr>\n",
       "      <th>bpphoswc</th>\n",
       "      <td>99.996692</td>\n",
       "      <td>0.000052</td>\n",
       "      <td>1.56250</td>\n",
       "    </tr>\n",
       "    <tr>\n",
       "      <th>bpexc</th>\n",
       "      <td>99.963812</td>\n",
       "      <td>0.000499</td>\n",
       "      <td>1.38002</td>\n",
       "    </tr>\n",
       "    <tr>\n",
       "      <th>algae8</th>\n",
       "      <td>99.908679</td>\n",
       "      <td>0.002797</td>\n",
       "      <td>3.06250</td>\n",
       "    </tr>\n",
       "    <tr>\n",
       "      <th>bpdr</th>\n",
       "      <td>99.719584</td>\n",
       "      <td>0.003870</td>\n",
       "      <td>1.38002</td>\n",
       "    </tr>\n",
       "    <tr>\n",
       "      <th>algae5</th>\n",
       "      <td>99.439394</td>\n",
       "      <td>0.017169</td>\n",
       "      <td>3.06250</td>\n",
       "    </tr>\n",
       "    <tr>\n",
       "      <th>bpnitrwc</th>\n",
       "      <td>99.412293</td>\n",
       "      <td>0.009183</td>\n",
       "      <td>1.56250</td>\n",
       "    </tr>\n",
       "    <tr>\n",
       "      <th>sod6</th>\n",
       "      <td>99.345458</td>\n",
       "      <td>0.020045</td>\n",
       "      <td>3.06250</td>\n",
       "    </tr>\n",
       "    <tr>\n",
       "      <th>algae6</th>\n",
       "      <td>99.296855</td>\n",
       "      <td>0.021534</td>\n",
       "      <td>3.06250</td>\n",
       "    </tr>\n",
       "    <tr>\n",
       "      <th>sod8</th>\n",
       "      <td>99.187996</td>\n",
       "      <td>0.024868</td>\n",
       "      <td>3.06250</td>\n",
       "    </tr>\n",
       "    <tr>\n",
       "      <th>algae7</th>\n",
       "      <td>99.155343</td>\n",
       "      <td>0.025868</td>\n",
       "      <td>3.06250</td>\n",
       "    </tr>\n",
       "  </tbody>\n",
       "</table>\n",
       "</div>"
      ],
      "text/plain": [
       "          percent_reduction  post_var  prior_var\n",
       "bpphoswc          99.996692  0.000052    1.56250\n",
       "bpexc             99.963812  0.000499    1.38002\n",
       "algae8            99.908679  0.002797    3.06250\n",
       "bpdr              99.719584  0.003870    1.38002\n",
       "algae5            99.439394  0.017169    3.06250\n",
       "bpnitrwc          99.412293  0.009183    1.56250\n",
       "sod6              99.345458  0.020045    3.06250\n",
       "algae6            99.296855  0.021534    3.06250\n",
       "sod8              99.187996  0.024868    3.06250\n",
       "algae7            99.155343  0.025868    3.06250"
      ]
     },
     "execution_count": 14,
     "metadata": {},
     "output_type": "execute_result"
    },
    {
     "data": {
      "image/png": "[encoded data removed]",
      "text/plain": [
       "<matplotlib.figure.Figure at 0xc896f98>"
      ]
     },
     "metadata": {},
     "output_type": "display_data"
    }
   ],
   "source": [
    "#get the parameter uncertainty dataframe and sort it\n",
    "par_sum = sc.get_parameter_summary().\\\n",
    "   sort_values(\"percent_reduction\",ascending=False)\n",
    "#make a bar plot of the percent reduction \n",
    "par_sum.loc[par_sum.index[:20],\"percent_reduction\"].\\\n",
    "   plot(kind=\"bar\",figsize=(10,4),edgecolor=\"none\")\n",
    "#echo the first 10 entries\n",
    "par_sum.iloc[0:10,:]"
   ]
  },
  {
   "cell_type": "code",
   "execution_count": 15,
   "metadata": {},
   "outputs": [
    {
     "data": {
      "text/plain": [
       "<matplotlib.axes._subplots.AxesSubplot at 0xc904c88>"
      ]
     },
     "execution_count": 15,
     "metadata": {},
     "output_type": "execute_result"
    },
    {
     "data": {
      "image/png": "[encoded data removed]",
      "text/plain": [
       "<matplotlib.figure.Figure at 0xc83bb00>"
      ]
     },
     "metadata": {},
     "output_type": "display_data"
    }
   ],
   "source": [
    "#plot more of the percent reduction \n",
    "par_sum.loc[par_sum.index[:89],\"percent_reduction\"].\\\n",
    "   plot(kind=\"bar\",figsize=(10,4),edgecolor=\"none\")"
   ]
  },
  {
   "cell_type": "markdown",
   "metadata": {},
   "source": [
    "Now lets look at the other end of the parameter uncertainty summary -- the values with the least amount of uncertainty reduction. Note that calling get_parameter_summary() again results in no additional computation but is just accessing information already calculated"
   ]
  },
  {
   "cell_type": "code",
   "execution_count": 16,
   "metadata": {},
   "outputs": [
    {
     "data": {
      "text/html": [
       "<div>\n",
       "<style scoped>\n",
       "    .dataframe tbody tr th:only-of-type {\n",
       "        vertical-align: middle;\n",
       "    }\n",
       "\n",
       "    .dataframe tbody tr th {\n",
       "        vertical-align: top;\n",
       "    }\n",
       "\n",
       "    .dataframe thead th {\n",
       "        text-align: right;\n",
       "    }\n",
       "</style>\n",
       "<table border=\"1\" class=\"dataframe\">\n",
       "  <thead>\n",
       "    <tr style=\"text-align: right;\">\n",
       "      <th></th>\n",
       "      <th>percent_reduction</th>\n",
       "      <th>post_var</th>\n",
       "      <th>prior_var</th>\n",
       "    </tr>\n",
       "  </thead>\n",
       "  <tbody>\n",
       "    <tr>\n",
       "      <th>phytnh4</th>\n",
       "      <td>2.386902e-07</td>\n",
       "      <td>0.005664</td>\n",
       "      <td>0.005664</td>\n",
       "    </tr>\n",
       "    <tr>\n",
       "      <th>phytgr_temp</th>\n",
       "      <td>4.252292e-07</td>\n",
       "      <td>0.000054</td>\n",
       "      <td>0.000054</td>\n",
       "    </tr>\n",
       "    <tr>\n",
       "      <th>phytresp_tmp</th>\n",
       "      <td>7.129558e-07</td>\n",
       "      <td>0.000054</td>\n",
       "      <td>0.000054</td>\n",
       "    </tr>\n",
       "    <tr>\n",
       "      <th>phytdr_tmp</th>\n",
       "      <td>1.020015e-06</td>\n",
       "      <td>0.000054</td>\n",
       "      <td>0.000054</td>\n",
       "    </tr>\n",
       "    <tr>\n",
       "      <th>dnftemp</th>\n",
       "      <td>1.877630e-06</td>\n",
       "      <td>0.000054</td>\n",
       "      <td>0.000054</td>\n",
       "    </tr>\n",
       "    <tr>\n",
       "      <th>phytnitr</th>\n",
       "      <td>1.134886e-05</td>\n",
       "      <td>0.009897</td>\n",
       "      <td>0.009897</td>\n",
       "    </tr>\n",
       "    <tr>\n",
       "      <th>phytlight</th>\n",
       "      <td>2.322536e-05</td>\n",
       "      <td>0.012063</td>\n",
       "      <td>0.012063</td>\n",
       "    </tr>\n",
       "    <tr>\n",
       "      <th>phytgr</th>\n",
       "      <td>1.078738e-04</td>\n",
       "      <td>0.005664</td>\n",
       "      <td>0.005664</td>\n",
       "    </tr>\n",
       "    <tr>\n",
       "      <th>ontemp</th>\n",
       "      <td>1.283213e-04</td>\n",
       "      <td>0.000054</td>\n",
       "      <td>0.000054</td>\n",
       "    </tr>\n",
       "    <tr>\n",
       "      <th>nitr</th>\n",
       "      <td>1.776520e-04</td>\n",
       "      <td>0.004073</td>\n",
       "      <td>0.004073</td>\n",
       "    </tr>\n",
       "    <tr>\n",
       "      <th>phytphos</th>\n",
       "      <td>7.232498e-04</td>\n",
       "      <td>0.030535</td>\n",
       "      <td>0.030535</td>\n",
       "    </tr>\n",
       "    <tr>\n",
       "      <th>phos</th>\n",
       "      <td>1.592638e-03</td>\n",
       "      <td>0.022654</td>\n",
       "      <td>0.022655</td>\n",
       "    </tr>\n",
       "    <tr>\n",
       "      <th>phytresp</th>\n",
       "      <td>1.919097e-03</td>\n",
       "      <td>0.062499</td>\n",
       "      <td>0.062500</td>\n",
       "    </tr>\n",
       "    <tr>\n",
       "      <th>phytsv</th>\n",
       "      <td>2.203617e-03</td>\n",
       "      <td>0.160409</td>\n",
       "      <td>0.160412</td>\n",
       "    </tr>\n",
       "    <tr>\n",
       "      <th>phytdic</th>\n",
       "      <td>4.268229e-03</td>\n",
       "      <td>0.249989</td>\n",
       "      <td>0.250000</td>\n",
       "    </tr>\n",
       "    <tr>\n",
       "      <th>detdrtemp</th>\n",
       "      <td>4.392172e-03</td>\n",
       "      <td>0.000054</td>\n",
       "      <td>0.000054</td>\n",
       "    </tr>\n",
       "    <tr>\n",
       "      <th>optemp</th>\n",
       "      <td>1.023779e-02</td>\n",
       "      <td>0.000054</td>\n",
       "      <td>0.000054</td>\n",
       "    </tr>\n",
       "    <tr>\n",
       "      <th>onhyd</th>\n",
       "      <td>2.546770e-02</td>\n",
       "      <td>0.037835</td>\n",
       "      <td>0.037845</td>\n",
       "    </tr>\n",
       "    <tr>\n",
       "      <th>dnfsed_temp</th>\n",
       "      <td>4.321132e-02</td>\n",
       "      <td>0.000054</td>\n",
       "      <td>0.000054</td>\n",
       "    </tr>\n",
       "    <tr>\n",
       "      <th>bpphosik</th>\n",
       "      <td>4.604202e-02</td>\n",
       "      <td>0.028698</td>\n",
       "      <td>0.028712</td>\n",
       "    </tr>\n",
       "  </tbody>\n",
       "</table>\n",
       "</div>"
      ],
      "text/plain": [
       "              percent_reduction  post_var  prior_var\n",
       "phytnh4            2.386902e-07  0.005664   0.005664\n",
       "phytgr_temp        4.252292e-07  0.000054   0.000054\n",
       "phytresp_tmp       7.129558e-07  0.000054   0.000054\n",
       "phytdr_tmp         1.020015e-06  0.000054   0.000054\n",
       "dnftemp            1.877630e-06  0.000054   0.000054\n",
       "phytnitr           1.134886e-05  0.009897   0.009897\n",
       "phytlight          2.322536e-05  0.012063   0.012063\n",
       "phytgr             1.078738e-04  0.005664   0.005664\n",
       "ontemp             1.283213e-04  0.000054   0.000054\n",
       "nitr               1.776520e-04  0.004073   0.004073\n",
       "phytphos           7.232498e-04  0.030535   0.030535\n",
       "phos               1.592638e-03  0.022654   0.022655\n",
       "phytresp           1.919097e-03  0.062499   0.062500\n",
       "phytsv             2.203617e-03  0.160409   0.160412\n",
       "phytdic            4.268229e-03  0.249989   0.250000\n",
       "detdrtemp          4.392172e-03  0.000054   0.000054\n",
       "optemp             1.023779e-02  0.000054   0.000054\n",
       "onhyd              2.546770e-02  0.037835   0.037845\n",
       "dnfsed_temp        4.321132e-02  0.000054   0.000054\n",
       "bpphosik           4.604202e-02  0.028698   0.028712"
      ]
     },
     "execution_count": 16,
     "metadata": {},
     "output_type": "execute_result"
    },
    {
     "data": {
      "image/png": "[encoded data removed]",
      "text/plain": [
       "<matplotlib.figure.Figure at 0xc9aa438>"
      ]
     },
     "metadata": {},
     "output_type": "display_data"
    }
   ],
   "source": [
    "# sort in increasing order without 'ascending=False'\n",
    "par_sum = sc.get_parameter_summary().sort_values(\"percent_reduction\") \n",
    "# plot the first 20\n",
    "par_sum.loc[par_sum.index[:20],\"percent_reduction\"].\\\n",
    "   plot(kind=\"bar\",figsize=(10,4),edgecolor=\"none\")\n",
    "#echo the first 10 \n",
    "par_sum.iloc[0:20,:]"
   ]
  },
  {
   "cell_type": "code",
   "execution_count": 30,
   "metadata": {},
   "outputs": [
    {
     "data": {
      "text/plain": [
       "<matplotlib.axes._subplots.AxesSubplot at 0xe745d30>"
      ]
     },
     "execution_count": 30,
     "metadata": {},
     "output_type": "execute_result"
    },
    {
     "data": {
      "image/png": "[encoded data removed]",
      "text/plain": [
       "<matplotlib.figure.Figure at 0x108cd4a8>"
      ]
     },
     "metadata": {},
     "output_type": "display_data"
    }
   ],
   "source": [
    "# plot the first 50\n",
    "par_sum.loc[par_sum.index[:50],\"percent_reduction\"].\\\n",
    "   plot(kind=\"bar\",figsize=(10,4),edgecolor=\"none\")"
   ]
  },
  {
   "cell_type": "markdown",
   "metadata": {},
   "source": [
    "## Compare to sensitvity from QUAL2Kw auto-calibration results"
   ]
  },
  {
   "cell_type": "code",
   "execution_count": 44,
   "metadata": {},
   "outputs": [
    {
     "data": {
      "text/plain": [
       "{'algae': Index([u'algae1', u'algae2', u'algae3', u'algae4', u'algae5', u'algae6',\n",
       "        u'algae7', u'algae8'],\n",
       "       dtype='object', name=u'parnme'),\n",
       " 'basl': Index([u'bpgr', u'bpgr_temp', u'bpresp', u'bpphresp', u'bpphresp_tmp',\n",
       "        u'bpexc', u'bpexc_temp', u'bpdr', u'bpcc', u'bpdr_temp', u'bpnitrk',\n",
       "        u'bpphosk', u'bpdick', u'bplightk', u'bpnh4', u'bpnitrsq', u'bpphossq',\n",
       "        u'bpnitrmu', u'bpphosmu', u'bpnitrik', u'bpphosik', u'bpnitrwc',\n",
       "        u'bpphoswc', u'bpsf', u'bpexps', u'bpbios'],\n",
       "       dtype='object', name=u'parnme'),\n",
       " 'cnp': Index([u'carb', u'nitr', u'phos'], dtype='object', name=u'parnme'),\n",
       " 'detr': Index([u'detdr', u'detdrtemp', u'detsv'], dtype='object', name=u'parnme'),\n",
       " 'fcbod': Index([u'fcbodox', u'fcbodtemp'], dtype='object', name=u'parnme'),\n",
       " 'mann': Index([u'mann1', u'mann2', u'mann3', u'mann4', u'mann5', u'mann6', u'mann7',\n",
       "        u'mann8'],\n",
       "       dtype='object', name=u'parnme'),\n",
       " 'nh4n': Index([u'nh4nit', u'nh4temp'], dtype='object', name=u'parnme'),\n",
       " 'no3n': Index([u'dnf', u'dnftemp', u'dnfsed', u'dnfsed_temp'], dtype='object', name=u'parnme'),\n",
       " 'orgn': Index([u'onhyd', u'ontemp', u'onsv'], dtype='object', name=u'parnme'),\n",
       " 'orgp': Index([u'ophyd', u'optemp', u'opsv'], dtype='object', name=u'parnme'),\n",
       " 'phsyn': Index([u'photoqn', u'rq'], dtype='object', name=u'parnme'),\n",
       " 'phyt': Index([u'phytgr', u'phytgr_temp', u'phytresp', u'phytresp_tmp', u'phytdr',\n",
       "        u'phytdr_tmp', u'phytnitr', u'phytphos', u'phytdic', u'phytlight',\n",
       "        u'phytnh4', u'phytsv'],\n",
       "       dtype='object', name=u'parnme'),\n",
       " 'po4p': Index([u'po4sv', u'po4sedox'], dtype='object', name=u'parnme'),\n",
       " 'reaer': Index([u'reaera', u'reaerb', u'reaerc'], dtype='object', name=u'parnme'),\n",
       " 'sod': Index([u'sod1', u'sod2', u'sod3', u'sod4', u'sod5', u'sod6', u'sod7', u'sod8'], dtype='object', name=u'parnme')}"
      ]
     },
     "execution_count": 44,
     "metadata": {},
     "output_type": "execute_result"
    }
   ],
   "source": [
    "sc.pst.parameter_data.groupby(\"pargp\").groups"
   ]
  },
  {
   "cell_type": "markdown",
   "metadata": {},
   "source": [
    "# Forecast uncertainty"
   ]
  },
  {
   "cell_type": "markdown",
   "metadata": {},
   "source": [
    "Now let's examine the prior and posterior variance of the forecasts. The uncertainty in parameters directly impacts the uncertainty of forecasts made with the model. Four forecasts were identified for analysis, as described above:\n",
    "\n",
    "sw_gw_0: the surface water/groundwater exchange during the calibration stress period\n",
    "sw_gw_1: the surface water/groundwater exchange during the prediction stress period\n",
    "or28c05_0: the head in well cell 6 (row 28, column 5) at the end of the calibration stress period\n",
    "or28c05_1: the head in well cell 6 (row 28, column 5) at the end of the prediction stress period"
   ]
  },
  {
   "cell_type": "code",
   "execution_count": 26,
   "metadata": {},
   "outputs": [
    {
     "data": {
      "text/html": [
       "<div>\n",
       "<style scoped>\n",
       "    .dataframe tbody tr th:only-of-type {\n",
       "        vertical-align: middle;\n",
       "    }\n",
       "\n",
       "    .dataframe tbody tr th {\n",
       "        vertical-align: top;\n",
       "    }\n",
       "\n",
       "    .dataframe thead th {\n",
       "        text-align: right;\n",
       "    }\n",
       "</style>\n",
       "<table border=\"1\" class=\"dataframe\">\n",
       "  <thead>\n",
       "    <tr style=\"text-align: right;\">\n",
       "      <th></th>\n",
       "      <th>percent_reduction</th>\n",
       "      <th>post_var</th>\n",
       "      <th>prior_var</th>\n",
       "    </tr>\n",
       "  </thead>\n",
       "  <tbody>\n",
       "    <tr>\n",
       "      <th>domin0606</th>\n",
       "      <td>99.982677</td>\n",
       "      <td>0.127377</td>\n",
       "      <td>735.307624</td>\n",
       "    </tr>\n",
       "    <tr>\n",
       "      <th>domin0808</th>\n",
       "      <td>99.979114</td>\n",
       "      <td>25.964724</td>\n",
       "      <td>124316.304304</td>\n",
       "    </tr>\n",
       "    <tr>\n",
       "      <th>domin0502</th>\n",
       "      <td>99.843626</td>\n",
       "      <td>0.147558</td>\n",
       "      <td>94.362529</td>\n",
       "    </tr>\n",
       "  </tbody>\n",
       "</table>\n",
       "</div>"
      ],
      "text/plain": [
       "           percent_reduction   post_var      prior_var\n",
       "domin0606          99.982677   0.127377     735.307624\n",
       "domin0808          99.979114  25.964724  124316.304304\n",
       "domin0502          99.843626   0.147558      94.362529"
      ]
     },
     "execution_count": 26,
     "metadata": {},
     "output_type": "execute_result"
    },
    {
     "data": {
      "image/png": "[encoded data removed]",
      "text/plain": [
       "<matplotlib.figure.Figure at 0xefb0748>"
      ]
     },
     "metadata": {},
     "output_type": "display_data"
    }
   ],
   "source": [
    "# get the forecast summary then make a bar chart of the percent_reduction column\n",
    "fig = plt.figure(figsize=(4,4))\n",
    "ax = plt.subplot(111)\n",
    "ax = sc.get_forecast_summary().percent_reduction.plot(kind='bar',\n",
    "                                                      ax=ax,grid=True)\n",
    "ax.set_ylabel(\"percent uncertainy\\nreduction from calibration\")\n",
    "ax.set_xlabel(\"forecast\")\n",
    "plt.tight_layout()\n",
    "plt.savefig(\"forecast_sum.pdf\")\n",
    "sc.get_forecast_summary()"
   ]
  },
  {
   "cell_type": "markdown",
   "metadata": {},
   "source": [
    "# Parameter contribution to forecast uncertainty"
   ]
  },
  {
   "cell_type": "markdown",
   "metadata": {},
   "source": [
    "## Overview"
   ]
  },
  {
   "cell_type": "markdown",
   "metadata": {},
   "source": [
    "As we observed above, information cascades from observations to parameters and then out to forecasts. With specific forecasts of interest, we can evaluate which information contributes most to forecast uncertainty. This is accomplished by assuming a parameter (or group of parameters) is perfectly known and assessing the forecast uncertainty under that assumption. Of course, this is a pretty serious approximation because perfect knowledge of a parameter can never be obtained in reality. In fact, it is difficult to calculate what, for example, a pumping test will provide in terms of uncertainty reduction for a parameter. Nonetheless, this metric can still provide important insights into model dynamics and help guide future data collection efforts.\n",
    "\n",
    "Evaluating parameters by groups\n",
    "With the Freyberg example, we can evaluate parameter contributions to forecast uncertainty with groups of parameters by type."
   ]
  },
  {
   "cell_type": "code",
   "execution_count": 17,
   "metadata": {},
   "outputs": [
    {
     "data": {
      "text/html": [
       "<div>\n",
       "<style scoped>\n",
       "    .dataframe tbody tr th:only-of-type {\n",
       "        vertical-align: middle;\n",
       "    }\n",
       "\n",
       "    .dataframe tbody tr th {\n",
       "        vertical-align: top;\n",
       "    }\n",
       "\n",
       "    .dataframe thead th {\n",
       "        text-align: right;\n",
       "    }\n",
       "</style>\n",
       "<table border=\"1\" class=\"dataframe\">\n",
       "  <thead>\n",
       "    <tr style=\"text-align: right;\">\n",
       "      <th></th>\n",
       "      <th>domin0502</th>\n",
       "      <th>domin0606</th>\n",
       "      <th>domin0808</th>\n",
       "    </tr>\n",
       "  </thead>\n",
       "  <tbody>\n",
       "    <tr>\n",
       "      <th>base</th>\n",
       "      <td>0.140299</td>\n",
       "      <td>0.121497</td>\n",
       "      <td>25.517322</td>\n",
       "    </tr>\n",
       "    <tr>\n",
       "      <th>phyt</th>\n",
       "      <td>0.140299</td>\n",
       "      <td>0.121497</td>\n",
       "      <td>25.517321</td>\n",
       "    </tr>\n",
       "    <tr>\n",
       "      <th>orgn</th>\n",
       "      <td>0.140154</td>\n",
       "      <td>0.121319</td>\n",
       "      <td>25.490491</td>\n",
       "    </tr>\n",
       "    <tr>\n",
       "      <th>sod</th>\n",
       "      <td>0.122107</td>\n",
       "      <td>0.108336</td>\n",
       "      <td>24.472449</td>\n",
       "    </tr>\n",
       "    <tr>\n",
       "      <th>cnp</th>\n",
       "      <td>0.140275</td>\n",
       "      <td>0.121231</td>\n",
       "      <td>25.448046</td>\n",
       "    </tr>\n",
       "    <tr>\n",
       "      <th>basl</th>\n",
       "      <td>0.127688</td>\n",
       "      <td>0.090024</td>\n",
       "      <td>14.269354</td>\n",
       "    </tr>\n",
       "    <tr>\n",
       "      <th>no3n</th>\n",
       "      <td>0.125601</td>\n",
       "      <td>0.117503</td>\n",
       "      <td>25.471131</td>\n",
       "    </tr>\n",
       "    <tr>\n",
       "      <th>po4p</th>\n",
       "      <td>0.139561</td>\n",
       "      <td>0.120054</td>\n",
       "      <td>25.180170</td>\n",
       "    </tr>\n",
       "    <tr>\n",
       "      <th>reaer</th>\n",
       "      <td>0.140099</td>\n",
       "      <td>0.117331</td>\n",
       "      <td>25.111770</td>\n",
       "    </tr>\n",
       "    <tr>\n",
       "      <th>phsyn</th>\n",
       "      <td>0.140218</td>\n",
       "      <td>0.121421</td>\n",
       "      <td>25.364329</td>\n",
       "    </tr>\n",
       "    <tr>\n",
       "      <th>fcbod</th>\n",
       "      <td>0.140284</td>\n",
       "      <td>0.120442</td>\n",
       "      <td>25.483240</td>\n",
       "    </tr>\n",
       "    <tr>\n",
       "      <th>orgp</th>\n",
       "      <td>0.139710</td>\n",
       "      <td>0.119610</td>\n",
       "      <td>25.148280</td>\n",
       "    </tr>\n",
       "    <tr>\n",
       "      <th>detr</th>\n",
       "      <td>0.140271</td>\n",
       "      <td>0.121373</td>\n",
       "      <td>25.488289</td>\n",
       "    </tr>\n",
       "    <tr>\n",
       "      <th>nh4n</th>\n",
       "      <td>0.116261</td>\n",
       "      <td>0.118349</td>\n",
       "      <td>25.298238</td>\n",
       "    </tr>\n",
       "    <tr>\n",
       "      <th>algae</th>\n",
       "      <td>0.136792</td>\n",
       "      <td>0.116350</td>\n",
       "      <td>20.020690</td>\n",
       "    </tr>\n",
       "    <tr>\n",
       "      <th>mann</th>\n",
       "      <td>0.093557</td>\n",
       "      <td>0.069265</td>\n",
       "      <td>24.897767</td>\n",
       "    </tr>\n",
       "  </tbody>\n",
       "</table>\n",
       "</div>"
      ],
      "text/plain": [
       "       domin0502  domin0606  domin0808\n",
       "base    0.140299   0.121497  25.517322\n",
       "phyt    0.140299   0.121497  25.517321\n",
       "orgn    0.140154   0.121319  25.490491\n",
       "sod     0.122107   0.108336  24.472449\n",
       "cnp     0.140275   0.121231  25.448046\n",
       "basl    0.127688   0.090024  14.269354\n",
       "no3n    0.125601   0.117503  25.471131\n",
       "po4p    0.139561   0.120054  25.180170\n",
       "reaer   0.140099   0.117331  25.111770\n",
       "phsyn   0.140218   0.121421  25.364329\n",
       "fcbod   0.140284   0.120442  25.483240\n",
       "orgp    0.139710   0.119610  25.148280\n",
       "detr    0.140271   0.121373  25.488289\n",
       "nh4n    0.116261   0.118349  25.298238\n",
       "algae   0.136792   0.116350  20.020690\n",
       "mann    0.093557   0.069265  24.897767"
      ]
     },
     "execution_count": 17,
     "metadata": {},
     "output_type": "execute_result"
    }
   ],
   "source": [
    "df = sc.get_par_group_contribution()\n",
    "df"
   ]
  },
  {
   "cell_type": "code",
   "execution_count": 28,
   "metadata": {},
   "outputs": [
    {
     "data": {
      "image/png": "[encoded data removed]",
      "text/plain": [
       "<matplotlib.figure.Figure at 0xea76e10>"
      ]
     },
     "metadata": {},
     "output_type": "display_data"
    }
   ],
   "source": [
    "#calc the percent reduction in posterior\n",
    "df_percent = 100.0 * (df.loc[\"base\",:]-df)/\\\n",
    "                      df.loc[\"base\",:]\n",
    "#drop the base column\n",
    "df_percent = df_percent.iloc[1:,:]\n",
    "#transpose and plot\n",
    "ax = df_percent.T.plot(kind=\"bar\", ylim=[0,100],figsize=(8,5))\n",
    "ax.grid()\n",
    "plt.tight_layout()\n",
    "plt.savefig('indiv_pars_certain_future.pdf')"
   ]
  },
  {
   "cell_type": "code",
   "execution_count": 33,
   "metadata": {},
   "outputs": [
    {
     "data": {
      "text/plain": [
       "[('algae',\n",
       "  Index([u'algae1', u'algae2', u'algae3', u'algae4', u'algae5', u'algae6',\n",
       "         u'algae7', u'algae8'],\n",
       "        dtype='object', name=u'parnme')),\n",
       " ('phyt',\n",
       "  Index([u'phytgr', u'phytgr_temp', u'phytresp', u'phytresp_tmp', u'phytdr',\n",
       "         u'phytdr_tmp', u'phytnitr', u'phytphos', u'phytdic', u'phytlight',\n",
       "         u'phytnh4', u'phytsv'],\n",
       "        dtype='object', name=u'parnme')),\n",
       " ('orgn',\n",
       "  Index([u'onhyd', u'ontemp', u'onsv'], dtype='object', name=u'parnme')),\n",
       " ('sod',\n",
       "  Index([u'sod1', u'sod2', u'sod3', u'sod4', u'sod5', u'sod6', u'sod7', u'sod8'], dtype='object', name=u'parnme')),\n",
       " ('cnp', Index([u'carb', u'nitr', u'phos'], dtype='object', name=u'parnme')),\n",
       " ('po4p', Index([u'po4sv', u'po4sedox'], dtype='object', name=u'parnme')),\n",
       " ('reaer',\n",
       "  Index([u'reaera', u'reaerb', u'reaerc'], dtype='object', name=u'parnme')),\n",
       " ('mann',\n",
       "  Index([u'mann1', u'mann2', u'mann3', u'mann4', u'mann5', u'mann6', u'mann7',\n",
       "         u'mann8'],\n",
       "        dtype='object', name=u'parnme')),\n",
       " ('phsyn', Index([u'photoqn', u'rq'], dtype='object', name=u'parnme')),\n",
       " ('fcbod', Index([u'fcbodox', u'fcbodtemp'], dtype='object', name=u'parnme')),\n",
       " ('orgp',\n",
       "  Index([u'ophyd', u'optemp', u'opsv'], dtype='object', name=u'parnme')),\n",
       " ('detr',\n",
       "  Index([u'detdr', u'detdrtemp', u'detsv'], dtype='object', name=u'parnme')),\n",
       " ('nh4n', Index([u'nh4nit', u'nh4temp'], dtype='object', name=u'parnme')),\n",
       " ('basl',\n",
       "  Index([u'bpgr', u'bpgr_temp', u'bpresp', u'bpphresp', u'bpphresp_tmp',\n",
       "         u'bpexc', u'bpexc_temp', u'bpdr', u'bpcc', u'bpdr_temp', u'bpnitrk',\n",
       "         u'bpphosk', u'bpdick', u'bplightk', u'bpnh4', u'bpnitrsq', u'bpphossq',\n",
       "         u'bpnitrmu', u'bpphosmu', u'bpnitrik', u'bpphosik', u'bpnitrwc',\n",
       "         u'bpphoswc', u'bpsf', u'bpexps', u'bpbios'],\n",
       "        dtype='object', name=u'parnme')),\n",
       " ('no3n',\n",
       "  Index([u'dnf', u'dnftemp', u'dnfsed', u'dnfsed_temp'], dtype='object', name=u'parnme'))]"
      ]
     },
     "execution_count": 33,
     "metadata": {},
     "output_type": "execute_result"
    }
   ],
   "source": [
    "pargp = sc.pst.parameter_data.groupby(\"pargp\").groups\n",
    "pargp.items()"
   ]
  },
  {
   "cell_type": "code",
   "execution_count": 36,
   "metadata": {},
   "outputs": [
    {
     "ename": "TypeError",
     "evalue": "unhashable type: 'Index'",
     "output_type": "error",
     "traceback": [
      "\u001b[1;31m---------------------------------------------------------------------------\u001b[0m",
      "\u001b[1;31mTypeError\u001b[0m                                 Traceback (most recent call last)",
      "\u001b[1;32m<ipython-input-36-0c3e0ffcba61>\u001b[0m in \u001b[0;36m<module>\u001b[1;34m()\u001b[0m\n\u001b[0;32m      1\u001b[0m \u001b[1;32mfor\u001b[0m \u001b[0mgp\u001b[0m \u001b[1;32min\u001b[0m \u001b[0mpargp\u001b[0m\u001b[1;33m.\u001b[0m\u001b[0mitems\u001b[0m\u001b[1;33m(\u001b[0m\u001b[1;33m)\u001b[0m\u001b[1;33m:\u001b[0m\u001b[1;33m\u001b[0m\u001b[0m\n\u001b[1;32m----> 2\u001b[1;33m     \u001b[0max\u001b[0m \u001b[1;33m=\u001b[0m \u001b[0mpyemu\u001b[0m\u001b[1;33m.\u001b[0m\u001b[0mhelpers\u001b[0m\u001b[1;33m.\u001b[0m\u001b[0mplot_summary_distributions\u001b[0m\u001b[1;33m(\u001b[0m\u001b[0mpar_sum\u001b[0m\u001b[1;33m.\u001b[0m\u001b[0mloc\u001b[0m\u001b[1;33m[\u001b[0m\u001b[0mpargp\u001b[0m\u001b[1;33m[\u001b[0m\u001b[0mgp\u001b[0m\u001b[1;33m]\u001b[0m\u001b[1;33m,\u001b[0m\u001b[1;33m:\u001b[0m\u001b[1;33m]\u001b[0m\u001b[1;33m,\u001b[0m\u001b[0mlabel_post\u001b[0m\u001b[1;33m=\u001b[0m\u001b[0mTrue\u001b[0m\u001b[1;33m)\u001b[0m\u001b[1;33m\u001b[0m\u001b[0m\n\u001b[0m\u001b[0;32m      3\u001b[0m     \u001b[0max\u001b[0m\u001b[1;33m.\u001b[0m\u001b[0mset_title\u001b[0m\u001b[1;33m(\u001b[0m\u001b[0mgp\u001b[0m\u001b[1;33m)\u001b[0m\u001b[1;33m\u001b[0m\u001b[0m\n\u001b[0;32m      4\u001b[0m     \u001b[0mplt\u001b[0m\u001b[1;33m.\u001b[0m\u001b[0msavefig\u001b[0m\u001b[1;33m(\u001b[0m\u001b[0mgp\u001b[0m\u001b[1;33m+\u001b[0m\u001b[1;34m\".pdf\"\u001b[0m\u001b[1;33m)\u001b[0m\u001b[1;33m\u001b[0m\u001b[0m\n",
      "\u001b[1;32mC:\\anaconda\\lib\\site-packages\\pandas\\core\\indexes\\base.pyc\u001b[0m in \u001b[0;36m__hash__\u001b[1;34m(self)\u001b[0m\n\u001b[0;32m   1719\u001b[0m \u001b[1;33m\u001b[0m\u001b[0m\n\u001b[0;32m   1720\u001b[0m     \u001b[1;32mdef\u001b[0m \u001b[0m__hash__\u001b[0m\u001b[1;33m(\u001b[0m\u001b[0mself\u001b[0m\u001b[1;33m)\u001b[0m\u001b[1;33m:\u001b[0m\u001b[1;33m\u001b[0m\u001b[0m\n\u001b[1;32m-> 1721\u001b[1;33m         \u001b[1;32mraise\u001b[0m \u001b[0mTypeError\u001b[0m\u001b[1;33m(\u001b[0m\u001b[1;34m\"unhashable type: %r\"\u001b[0m \u001b[1;33m%\u001b[0m \u001b[0mtype\u001b[0m\u001b[1;33m(\u001b[0m\u001b[0mself\u001b[0m\u001b[1;33m)\u001b[0m\u001b[1;33m.\u001b[0m\u001b[0m__name__\u001b[0m\u001b[1;33m)\u001b[0m\u001b[1;33m\u001b[0m\u001b[0m\n\u001b[0m\u001b[0;32m   1722\u001b[0m \u001b[1;33m\u001b[0m\u001b[0m\n\u001b[0;32m   1723\u001b[0m     \u001b[1;32mdef\u001b[0m \u001b[0m__setitem__\u001b[0m\u001b[1;33m(\u001b[0m\u001b[0mself\u001b[0m\u001b[1;33m,\u001b[0m \u001b[0mkey\u001b[0m\u001b[1;33m,\u001b[0m \u001b[0mvalue\u001b[0m\u001b[1;33m)\u001b[0m\u001b[1;33m:\u001b[0m\u001b[1;33m\u001b[0m\u001b[0m\n",
      "\u001b[1;31mTypeError\u001b[0m: unhashable type: 'Index'"
     ]
    }
   ],
   "source": [
    "for gp,panmes in pargp.items():\n",
    "    ax = pyemu.helpers.plot_summary_distributions(par_sum.loc[pargp[gp],:],label_post=True)\n",
    "    ax.set_title(gp)\n",
    "    plt.savefig(gp+\".pdf\")"
   ]
  },
  {
   "cell_type": "code",
   "execution_count": 34,
   "metadata": {},
   "outputs": [
    {
     "ename": "NameError",
     "evalue": "name 'pg' is not defined",
     "output_type": "error",
     "traceback": [
      "\u001b[1;31m---------------------------------------------------------------------------\u001b[0m",
      "\u001b[1;31mNameError\u001b[0m                                 Traceback (most recent call last)",
      "\u001b[1;32m<ipython-input-34-c76a32fd65f6>\u001b[0m in \u001b[0;36m<module>\u001b[1;34m()\u001b[0m\n\u001b[1;32m----> 1\u001b[1;33m \u001b[0mgrp\u001b[0m \u001b[1;33m=\u001b[0m \u001b[0mpg\u001b[0m\u001b[1;33m[\u001b[0m\u001b[1;36m6\u001b[0m\u001b[1;33m]\u001b[0m\u001b[1;33m\u001b[0m\u001b[0m\n\u001b[0m\u001b[0;32m      2\u001b[0m \u001b[0mpl\u001b[0m \u001b[1;33m=\u001b[0m \u001b[0mp_sc\u001b[0m\u001b[1;33m.\u001b[0m\u001b[0mparameter_data\u001b[0m\u001b[1;33m.\u001b[0m\u001b[0mparnme\u001b[0m\u001b[1;33m[\u001b[0m\u001b[0mp_sc\u001b[0m\u001b[1;33m.\u001b[0m\u001b[0mparameter_data\u001b[0m\u001b[1;33m.\u001b[0m\u001b[0mpargp\u001b[0m \u001b[1;33m==\u001b[0m \u001b[0mgrp\u001b[0m\u001b[1;33m]\u001b[0m\u001b[1;33m\u001b[0m\u001b[0m\n\u001b[0;32m      3\u001b[0m \u001b[0mpl_sum\u001b[0m \u001b[1;33m=\u001b[0m \u001b[0mpar_sum\u001b[0m\u001b[1;33m[\u001b[0m\u001b[0mpar_sum\u001b[0m\u001b[1;33m.\u001b[0m\u001b[0mindex\u001b[0m\u001b[1;33m.\u001b[0m\u001b[0misin\u001b[0m\u001b[1;33m(\u001b[0m\u001b[0mpl\u001b[0m\u001b[1;33m)\u001b[0m\u001b[1;33m]\u001b[0m\u001b[1;33m\u001b[0m\u001b[0m\n\u001b[0;32m      4\u001b[0m \u001b[0mpl_sum\u001b[0m\u001b[1;33m.\u001b[0m\u001b[0mpost_stdev\u001b[0m\u001b[1;33m[\u001b[0m\u001b[1;36m2\u001b[0m\u001b[1;33m]\u001b[0m\u001b[1;33m\u001b[0m\u001b[0m\n",
      "\u001b[1;31mNameError\u001b[0m: name 'pg' is not defined"
     ]
    }
   ],
   "source": [
    "grp = pg[6]\n",
    "pl = p_sc.parameter_data.parnme[p_sc.parameter_data.pargp == grp]\n",
    "pl_sum = par_sum[par_sum.index.isin(pl)]\n",
    "pl_sum.post_stdev[2]\n"
   ]
  },
  {
   "cell_type": "code",
   "execution_count": 23,
   "metadata": {},
   "outputs": [
    {
     "data": {
      "text/html": [
       "<div>\n",
       "<style scoped>\n",
       "    .dataframe tbody tr th:only-of-type {\n",
       "        vertical-align: middle;\n",
       "    }\n",
       "\n",
       "    .dataframe tbody tr th {\n",
       "        vertical-align: top;\n",
       "    }\n",
       "\n",
       "    .dataframe thead th {\n",
       "        text-align: right;\n",
       "    }\n",
       "</style>\n",
       "<table border=\"1\" class=\"dataframe\">\n",
       "  <thead>\n",
       "    <tr style=\"text-align: right;\">\n",
       "      <th></th>\n",
       "      <th>percent_reduction</th>\n",
       "      <th>post_var</th>\n",
       "      <th>prior_var</th>\n",
       "    </tr>\n",
       "  </thead>\n",
       "  <tbody>\n",
       "    <tr>\n",
       "      <th>domin0606</th>\n",
       "      <td>99.983477</td>\n",
       "      <td>0.121497</td>\n",
       "      <td>735.307624</td>\n",
       "    </tr>\n",
       "    <tr>\n",
       "      <th>domin0808</th>\n",
       "      <td>99.979474</td>\n",
       "      <td>25.517322</td>\n",
       "      <td>124316.304304</td>\n",
       "    </tr>\n",
       "    <tr>\n",
       "      <th>domin0502</th>\n",
       "      <td>99.851319</td>\n",
       "      <td>0.140299</td>\n",
       "      <td>94.362529</td>\n",
       "    </tr>\n",
       "  </tbody>\n",
       "</table>\n",
       "</div>"
      ],
      "text/plain": [
       "           percent_reduction   post_var      prior_var\n",
       "domin0606          99.983477   0.121497     735.307624\n",
       "domin0808          99.979474  25.517322  124316.304304\n",
       "domin0502          99.851319   0.140299      94.362529"
      ]
     },
     "execution_count": 23,
     "metadata": {},
     "output_type": "execute_result"
    }
   ],
   "source": [
    "fore_sum = sc.get_forecast_summary()\n",
    "fore_sum"
   ]
  }
 ],
 "metadata": {
  "kernelspec": {
   "display_name": "Python 2",
   "language": "python",
   "name": "python2"
  },
  "language_info": {
   "codemirror_mode": {
    "name": "ipython",
    "version": 2
   },
   "file_extension": ".py",
   "mimetype": "text/x-python",
   "name": "python",
   "nbconvert_exporter": "python",
   "pygments_lexer": "ipython2",
   "version": "2.7.14"
  }
 },
 "nbformat": 4,
 "nbformat_minor": 2
}
